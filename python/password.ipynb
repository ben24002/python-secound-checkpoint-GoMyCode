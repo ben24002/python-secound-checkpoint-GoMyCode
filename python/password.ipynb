{
 "cells": [
  {
   "cell_type": "code",
   "execution_count": 15,
   "id": "bb2bf0fa",
   "metadata": {},
   "outputs": [
    {
     "name": "stdout",
     "output_type": "stream",
     "text": [
      "entrer passwordhello\n",
      "entrer passwordpassworld\n",
      "entrer passwordpassword\n",
      "welcome\n"
     ]
    }
   ],
   "source": [
    "passvrais=\"password\"\n",
    "passw=\"faux\"\n",
    "\n",
    "while passvrais != passw :\n",
    "\n",
    "    passw=input(\"entrer password\")\n",
    "\n",
    "print(\"welcome\")"
   ]
  },
  {
   "cell_type": "code",
   "execution_count": null,
   "id": "a477055a",
   "metadata": {},
   "outputs": [],
   "source": []
  }
 ],
 "metadata": {
  "kernelspec": {
   "display_name": "Python 3 (ipykernel)",
   "language": "python",
   "name": "python3"
  },
  "language_info": {
   "codemirror_mode": {
    "name": "ipython",
    "version": 3
   },
   "file_extension": ".py",
   "mimetype": "text/x-python",
   "name": "python",
   "nbconvert_exporter": "python",
   "pygments_lexer": "ipython3",
   "version": "3.9.12"
  }
 },
 "nbformat": 4,
 "nbformat_minor": 5
}
