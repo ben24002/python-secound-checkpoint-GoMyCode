{
 "cells": [
  {
   "cell_type": "code",
   "execution_count": 3,
   "id": "c89fffe1",
   "metadata": {},
   "outputs": [
    {
     "name": "stdout",
     "output_type": "stream",
     "text": [
      "nom :jl\n",
      "prenom :jllk\n",
      "jllk jl\n"
     ]
    }
   ],
   "source": [
    "#question1 :\n",
    "\n",
    "\n",
    "nom=input(\"nom : \")\n",
    "prenom=input(\"prenom : \")\n",
    "\n",
    "print(prenom + \" \" + nom)"
   ]
  },
  {
   "cell_type": "code",
   "execution_count": 5,
   "id": "06865af8",
   "metadata": {},
   "outputs": [
    {
     "name": "stdout",
     "output_type": "stream",
     "text": [
      "entrer un entier : 5\n",
      "5+55+555\n",
      "615\n"
     ]
    }
   ],
   "source": [
    "#question2 :\n",
    "\n",
    "\n",
    "num=str(input(\"entrer un entier : \"))\n",
    "\n",
    "tmp1=num+num\n",
    "tmp2=tmp1+num\n",
    "sum=int(num)+int(tmp1)+int(tmp2)\n",
    "\n",
    "print(num + \"+\" + tmp1 + \"+\" + tmp2)\n",
    "print(sum)"
   ]
  },
  {
   "cell_type": "code",
   "execution_count": 10,
   "id": "573b3e64",
   "metadata": {},
   "outputs": [
    {
     "name": "stdout",
     "output_type": "stream",
     "text": [
      "entrer un nombtre : 5\n",
      "odd\n"
     ]
    }
   ],
   "source": [
    "#question3 :\n",
    "\n",
    "\n",
    "number = int (input(\"entrer un nombtre : \"))\n",
    "\n",
    "if number%2==0 : \n",
    "    print(\"even\")\n",
    "else :\n",
    "    print(\"odd\")"
   ]
  },
  {
   "cell_type": "code",
   "execution_count": 15,
   "id": "16882ca1",
   "metadata": {},
   "outputs": [
    {
     "name": "stdout",
     "output_type": "stream",
     "text": [
      "2002\t2009\t2016\t2023\t2037\t2044\t2051\t2058\t2072\t2079\t2086\t2093\t2107\t2114\t2121\t2128\t2142\t2149\t2156\t2163\t2177\t2184\t2191\t2198\t2212\t2219\t2226\t2233\t2247\t2254\t2261\t2268\t2282\t2289\t2296\t2303\t2317\t2324\t2331\t2338\t2352\t2359\t2366\t2373\t2387\t2394\t2401\t2408\t2422\t2429\t2436\t2443\t2457\t2464\t2471\t2478\t2492\t2499\t2506\t2513\t2527\t2534\t2541\t2548\t2562\t2569\t2576\t2583\t2597\t2604\t2611\t2618\t2632\t2639\t2646\t2653\t2667\t2674\t2681\t2688\t2702\t2709\t2716\t2723\t2737\t2744\t2751\t2758\t2772\t2779\t2786\t2793\t2807\t2814\t2821\t2828\t2842\t2849\t2856\t2863\t2877\t2884\t2891\t2898\t2912\t2919\t2926\t2933\t2947\t2954\t2961\t2968\t2982\t2989\t2996\t3003\t3017\t3024\t3031\t3038\t3052\t3059\t3066\t3073\t3087\t3094\t3101\t3108\t3122\t3129\t3136\t3143\t3157\t3164\t3171\t3178\t3192\t3199\t"
     ]
    }
   ],
   "source": [
    "#question4 : \n",
    "\n",
    "\n",
    "#num : [2000:3200] divisable par 7 , non devisable par 5 :\n",
    "for i in range(2000,3200) :\n",
    "    if(i % 7 == 0 and i % 5 != 0) :\n",
    "    \n",
    "        print(i,end=\"\\t\")        "
   ]
  },
  {
   "cell_type": "code",
   "execution_count": 4,
   "id": "ef34fd35",
   "metadata": {},
   "outputs": [
    {
     "name": "stdout",
     "output_type": "stream",
     "text": [
      "entrer un nombre pour calculer son factoriel : 4\n",
      "24\n"
     ]
    }
   ],
   "source": [
    "#question5 :\n",
    "\n",
    "\n",
    "#fonction factorial\n",
    "def fact(tmp):\n",
    "    if tmp == 1 or tmp == 0 :\n",
    "        return 1\n",
    "    else :\n",
    "        return fact(tmp-1)*tmp\n",
    "\n",
    "    \n",
    "    \n",
    "num=int(input(\"entrer un nombre pour calculer son factoriel : \"))\n",
    "print(fact(num))"
   ]
  },
  {
   "cell_type": "code",
   "execution_count": 16,
   "id": "e47ad980",
   "metadata": {},
   "outputs": [
    {
     "name": "stdout",
     "output_type": "stream",
     "text": [
      "entrer une chaine de character : bonjour\n",
      "bnor\n"
     ]
    }
   ],
   "source": [
    "#question6 :\n",
    "\n",
    "\n",
    "#fonction supprime impaire\n",
    "def supp(tmp) : \n",
    "    \n",
    "    tmp2 =\"\"\n",
    "    for i in range (len(tmp)) :\n",
    "        if i%2 == 0 :\n",
    "            tmp2=tmp2+tmp[i]\n",
    "    return tmp2\n",
    "\n",
    "\n",
    "#supprime character pair :\n",
    "phrase = input(\"entrer une chaine de character : \")\n",
    "print(supp(phrase))"
   ]
  },
  {
   "cell_type": "code",
   "execution_count": 24,
   "id": "8d073db6",
   "metadata": {},
   "outputs": [
    {
     "name": "stdout",
     "output_type": "stream",
     "text": [
      "entrer le prix : 50\n",
      "45.0\n"
     ]
    }
   ],
   "source": [
    "#question7 :\n",
    "\n",
    "\n",
    "prix=int(input(\"entrer le prix : \"))\n",
    "\n",
    "if prix >= 500 :\n",
    "    \n",
    "    prix /= 2\n",
    "    \n",
    "elif prix >= 200 and prix < 500 :\n",
    "    \n",
    "    prix = prix - (prix * 0.3)\n",
    "    \n",
    "else :\n",
    "    \n",
    "    prix = prix - (prix * 0.1)\n",
    "    \n",
    "print(prix)"
   ]
  }
 ],
 "metadata": {
  "kernelspec": {
   "display_name": "Python 3 (ipykernel)",
   "language": "python",
   "name": "python3"
  },
  "language_info": {
   "codemirror_mode": {
    "name": "ipython",
    "version": 3
   },
   "file_extension": ".py",
   "mimetype": "text/x-python",
   "name": "python",
   "nbconvert_exporter": "python",
   "pygments_lexer": "ipython3",
   "version": "3.9.12"
  }
 },
 "nbformat": 4,
 "nbformat_minor": 5
}
